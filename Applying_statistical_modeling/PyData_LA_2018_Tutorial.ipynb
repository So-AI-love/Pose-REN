{
  "nbformat": 4,
  "nbformat_minor": 0,
  "metadata": {
    "colab": {
      "name": "PyData_LA_2018_Tutorial.ipynb",
      "provenance": [],
      "collapsed_sections": [],
      "include_colab_link": true
    },
    "kernelspec": {
      "name": "python2",
      "display_name": "Python 2"
    }
  },
  "cells": [
    {
      "cell_type": "markdown",
      "metadata": {
        "id": "view-in-github",
        "colab_type": "text"
      },
      "source": [
        "<a href=\"https://colab.research.google.com/github/So-AI-love/Pose-REN/blob/master/Applying_statistical_modeling/PyData_LA_2018_Tutorial.ipynb\" target=\"_parent\"><img src=\"https://colab.research.google.com/assets/colab-badge.svg\" alt=\"Open In Colab\"/></a>"
      ]
    },
    {
      "cell_type": "markdown",
      "metadata": {
        "id": "wwdOj9Cl6Zto"
      },
      "source": [
        "# Applying statistical modeling and machine learning to perform time-series forecasting."
      ]
    },
    {
      "cell_type": "markdown",
      "metadata": {
        "id": "n2xCjl9O7K6x"
      },
      "source": [
        "Tamara Louie  \n",
        "PyData LA  \n",
        "October 2018"
      ]
    },
    {
      "cell_type": "markdown",
      "metadata": {
        "id": "Y8H5Fx9L79Z9"
      },
      "source": [
        "# Time-series data due diligence"
      ]
    },
    {
      "cell_type": "markdown",
      "metadata": {
        "id": "nRcFjrKQBKjs"
      },
      "source": [
        "## Read in my data\n",
        "**Please download from http://insideairbnb.com/get-the-data.html the following CSV file (23 MB) under the \"Los Angeles\" section:**\n",
        "\n",
        "\treviews.csv\n",
        "  \n",
        "\n",
        "You should have **reviews.csv** stored somewhere locally. \n",
        "\n",
        "Run the cell below, and click on the button **Choose Files**, to select your **reviews.csv** to upload.  \n",
        "\n",
        "*Note: It will take some time to upload this data, so please start your upload and this upload will run for a couple of minutes.*"
      ]
    },
    {
      "cell_type": "code",
      "metadata": {
        "id": "Ur80thmY8BsB"
      },
      "source": [
        "# from google.colab import files\n",
        "\n",
        "# uploaded = files.upload()\n",
        "\n",
        "# for fn in uploaded.keys():\n",
        "#   print('User uploaded file \"{name}\" with length {length} bytes'.format(\n",
        "#       name=fn, length=len(uploaded[fn])))"
      ],
      "execution_count": 1,
      "outputs": []
    },
    {
      "cell_type": "markdown",
      "metadata": {
        "id": "sBHis-I6AW6j"
      },
      "source": [
        "## Import some relevant packages\n",
        "Ideally, one should set up their own virtual environment and determine the versions of each library that they are using.  Here, we will assume that the colaboratory environment has some shared environment with access to common Python libraries and the ability to install other libraries necessary."
      ]
    },
    {
      "cell_type": "code",
      "metadata": {
        "colab": {
          "base_uri": "https://localhost:8080/"
        },
        "id": "ulXiS7lQbBWo",
        "outputId": "1bbe20cf-5855-4786-b5e7-9d26f7cd7689"
      },
      "source": [
        "!wget https://transfer.sh/cRMKs/so-so.csv"
      ],
      "execution_count": 2,
      "outputs": [
        {
          "output_type": "stream",
          "text": [
            "--2021-02-27 00:03:22--  https://transfer.sh/cRMKs/so-so.csv\n",
            "Resolving transfer.sh (transfer.sh)... 144.76.136.153\n",
            "Connecting to transfer.sh (transfer.sh)|144.76.136.153|:443... connected.\n",
            "HTTP request sent, awaiting response... 200 OK\n",
            "Length: 32767757 (31M) [text/csv]\n",
            "Saving to: ‘so-so.csv.2’\n",
            "\n",
            "so-so.csv.2         100%[===================>]  31.25M  2.12MB/s    in 4m 10s  \n",
            "\n",
            "2021-02-27 00:07:36 (128 KB/s) - ‘so-so.csv.2’ saved [32767757/32767757]\n",
            "\n"
          ],
          "name": "stdout"
        }
      ]
    },
    {
      "cell_type": "code",
      "metadata": {
        "id": "f1JOuRDd-vGA"
      },
      "source": [
        "# import packages\n",
        "import numpy as np\n",
        "import pandas as pd\n",
        "import matplotlib.pyplot as plt\n",
        "%matplotlib inline\n",
        "from IPython.display import display, HTML, display_html\n",
        "import seaborn as sns\n",
        "import datetime\n",
        "\n",
        "\n",
        "# set formatting\n",
        "pd.set_option('display.max_columns', 100)\n",
        "pd.set_option('display.max_rows', 100)\n",
        "\n",
        "# read in CSV file data\n",
        "df = pd.read_csv('so-so.csv') #reviews.csv')"
      ],
      "execution_count": 3,
      "outputs": []
    },
    {
      "cell_type": "markdown",
      "metadata": {
        "id": "0iFBq8iNg30L"
      },
      "source": [
        "## Look at my data\n",
        "- How many rows are in the dataset?\n",
        "- How many columns are in this dataset?\n",
        "- What data types are the columns?\n",
        "- Is the data complete? Are there nulls? Do we have to infer values?\n",
        "- What is the definition of these columns?\n",
        "- What are some other caveats to the data?\n"
      ]
    },
    {
      "cell_type": "code",
      "metadata": {
        "id": "2Jn55hjsBMCj",
        "colab": {
          "base_uri": "https://localhost:8080/",
          "height": 816
        },
        "outputId": "77033173-3191-4be2-e189-e7904a34c9c3"
      },
      "source": [
        "# look at data\n",
        "display(df.head())\n",
        "\n",
        "# look a shape of data\n",
        "display(df.shape)\n",
        "\n",
        "# look at data types. Ideally look at all rows. Only look at first five here for minimal output.\n",
        "display(df.iloc[:5,:5].dtypes)\n",
        "\n",
        "# see if any columns have nulls. Ideally look at all rows. Only look at first five here for minimal output.\n",
        "display(df.iloc[:5,:5].isnull().any())\n",
        "\n",
        "# display descriptive statistics\n",
        "display(df.describe(percentiles=[0.25,0.5,0.75,0.85,0.95,0.99]))"
      ],
      "execution_count": 4,
      "outputs": [
        {
          "output_type": "display_data",
          "data": {
            "text/html": [
              "<div>\n",
              "<style scoped>\n",
              "    .dataframe tbody tr th:only-of-type {\n",
              "        vertical-align: middle;\n",
              "    }\n",
              "\n",
              "    .dataframe tbody tr th {\n",
              "        vertical-align: top;\n",
              "    }\n",
              "\n",
              "    .dataframe thead th {\n",
              "        text-align: right;\n",
              "    }\n",
              "</style>\n",
              "<table border=\"1\" class=\"dataframe\">\n",
              "  <thead>\n",
              "    <tr style=\"text-align: right;\">\n",
              "      <th></th>\n",
              "      <th>time</th>\n",
              "      <th>-1-</th>\n",
              "      <th>-2-</th>\n",
              "      <th>-3-</th>\n",
              "      <th>-4-</th>\n",
              "      <th>-5-</th>\n",
              "      <th>out</th>\n",
              "    </tr>\n",
              "  </thead>\n",
              "  <tbody>\n",
              "    <tr>\n",
              "      <th>0</th>\n",
              "      <td>25:32.2</td>\n",
              "      <td>-8.0</td>\n",
              "      <td>0.018727</td>\n",
              "      <td>1.334451</td>\n",
              "      <td>60.080002</td>\n",
              "      <td>37.026861</td>\n",
              "      <td>15147.67255</td>\n",
              "    </tr>\n",
              "    <tr>\n",
              "      <th>1</th>\n",
              "      <td>25:32.3</td>\n",
              "      <td>-8.0</td>\n",
              "      <td>0.018305</td>\n",
              "      <td>1.344409</td>\n",
              "      <td>60.080002</td>\n",
              "      <td>37.011600</td>\n",
              "      <td>15027.05899</td>\n",
              "    </tr>\n",
              "    <tr>\n",
              "      <th>2</th>\n",
              "      <td>25:32.4</td>\n",
              "      <td>-8.0</td>\n",
              "      <td>0.013568</td>\n",
              "      <td>1.322260</td>\n",
              "      <td>59.820000</td>\n",
              "      <td>37.011600</td>\n",
              "      <td>15270.12537</td>\n",
              "    </tr>\n",
              "    <tr>\n",
              "      <th>3</th>\n",
              "      <td>25:32.5</td>\n",
              "      <td>-8.0</td>\n",
              "      <td>0.015240</td>\n",
              "      <td>1.330974</td>\n",
              "      <td>59.820000</td>\n",
              "      <td>37.011600</td>\n",
              "      <td>15162.10324</td>\n",
              "    </tr>\n",
              "    <tr>\n",
              "      <th>4</th>\n",
              "      <td>25:32.6</td>\n",
              "      <td>-8.0</td>\n",
              "      <td>0.014344</td>\n",
              "      <td>1.329409</td>\n",
              "      <td>59.820000</td>\n",
              "      <td>37.011600</td>\n",
              "      <td>15173.13050</td>\n",
              "    </tr>\n",
              "  </tbody>\n",
              "</table>\n",
              "</div>"
            ],
            "text/plain": [
              "      time  -1-       -2-       -3-        -4-        -5-          out\n",
              "0  25:32.2 -8.0  0.018727  1.334451  60.080002  37.026861  15147.67255\n",
              "1  25:32.3 -8.0  0.018305  1.344409  60.080002  37.011600  15027.05899\n",
              "2  25:32.4 -8.0  0.013568  1.322260  59.820000  37.011600  15270.12537\n",
              "3  25:32.5 -8.0  0.015240  1.330974  59.820000  37.011600  15162.10324\n",
              "4  25:32.6 -8.0  0.014344  1.329409  59.820000  37.011600  15173.13050"
            ]
          },
          "metadata": {
            "tags": []
          }
        },
        {
          "output_type": "display_data",
          "data": {
            "text/plain": [
              "(407253, 7)"
            ]
          },
          "metadata": {
            "tags": []
          }
        },
        {
          "output_type": "display_data",
          "data": {
            "text/plain": [
              "time     object\n",
              "-1-     float64\n",
              "-2-     float64\n",
              "-3-     float64\n",
              "-4-     float64\n",
              "dtype: object"
            ]
          },
          "metadata": {
            "tags": []
          }
        },
        {
          "output_type": "display_data",
          "data": {
            "text/plain": [
              "time    False\n",
              "-1-     False\n",
              "-2-     False\n",
              "-3-     False\n",
              "-4-     False\n",
              "dtype: bool"
            ]
          },
          "metadata": {
            "tags": []
          }
        },
        {
          "output_type": "display_data",
          "data": {
            "text/html": [
              "<div>\n",
              "<style scoped>\n",
              "    .dataframe tbody tr th:only-of-type {\n",
              "        vertical-align: middle;\n",
              "    }\n",
              "\n",
              "    .dataframe tbody tr th {\n",
              "        vertical-align: top;\n",
              "    }\n",
              "\n",
              "    .dataframe thead th {\n",
              "        text-align: right;\n",
              "    }\n",
              "</style>\n",
              "<table border=\"1\" class=\"dataframe\">\n",
              "  <thead>\n",
              "    <tr style=\"text-align: right;\">\n",
              "      <th></th>\n",
              "      <th>-1-</th>\n",
              "      <th>-2-</th>\n",
              "      <th>-3-</th>\n",
              "      <th>-4-</th>\n",
              "      <th>-5-</th>\n",
              "      <th>out</th>\n",
              "    </tr>\n",
              "  </thead>\n",
              "  <tbody>\n",
              "    <tr>\n",
              "      <th>count</th>\n",
              "      <td>407253.000000</td>\n",
              "      <td>407253.000000</td>\n",
              "      <td>407253.000000</td>\n",
              "      <td>407253.000000</td>\n",
              "      <td>407253.000000</td>\n",
              "      <td>407253.000000</td>\n",
              "    </tr>\n",
              "    <tr>\n",
              "      <th>mean</th>\n",
              "      <td>-11.645348</td>\n",
              "      <td>0.414117</td>\n",
              "      <td>4.377672</td>\n",
              "      <td>47.671808</td>\n",
              "      <td>22.892519</td>\n",
              "      <td>10360.774896</td>\n",
              "    </tr>\n",
              "    <tr>\n",
              "      <th>std</th>\n",
              "      <td>0.331623</td>\n",
              "      <td>0.066392</td>\n",
              "      <td>0.480549</td>\n",
              "      <td>0.269672</td>\n",
              "      <td>0.872609</td>\n",
              "      <td>193.215215</td>\n",
              "    </tr>\n",
              "    <tr>\n",
              "      <th>min</th>\n",
              "      <td>-13.884766</td>\n",
              "      <td>0.011934</td>\n",
              "      <td>1.308562</td>\n",
              "      <td>47.259998</td>\n",
              "      <td>21.153845</td>\n",
              "      <td>6366.759162</td>\n",
              "    </tr>\n",
              "    <tr>\n",
              "      <th>25%</th>\n",
              "      <td>-11.828125</td>\n",
              "      <td>0.384328</td>\n",
              "      <td>4.048285</td>\n",
              "      <td>47.610001</td>\n",
              "      <td>22.374846</td>\n",
              "      <td>10270.414090</td>\n",
              "    </tr>\n",
              "    <tr>\n",
              "      <th>50%</th>\n",
              "      <td>-11.474559</td>\n",
              "      <td>0.392111</td>\n",
              "      <td>4.119448</td>\n",
              "      <td>47.660000</td>\n",
              "      <td>23.122709</td>\n",
              "      <td>10378.770540</td>\n",
              "    </tr>\n",
              "    <tr>\n",
              "      <th>75%</th>\n",
              "      <td>-11.433594</td>\n",
              "      <td>0.467362</td>\n",
              "      <td>4.635040</td>\n",
              "      <td>47.720001</td>\n",
              "      <td>23.275335</td>\n",
              "      <td>10469.378160</td>\n",
              "    </tr>\n",
              "    <tr>\n",
              "      <th>85%</th>\n",
              "      <td>-11.421875</td>\n",
              "      <td>0.481890</td>\n",
              "      <td>4.782478</td>\n",
              "      <td>47.750000</td>\n",
              "      <td>23.412700</td>\n",
              "      <td>10512.388690</td>\n",
              "    </tr>\n",
              "    <tr>\n",
              "      <th>95%</th>\n",
              "      <td>-11.400117</td>\n",
              "      <td>0.520934</td>\n",
              "      <td>5.096000</td>\n",
              "      <td>47.799999</td>\n",
              "      <td>23.672160</td>\n",
              "      <td>10584.998632</td>\n",
              "    </tr>\n",
              "    <tr>\n",
              "      <th>99%</th>\n",
              "      <td>-11.371094</td>\n",
              "      <td>0.562227</td>\n",
              "      <td>6.288785</td>\n",
              "      <td>47.849998</td>\n",
              "      <td>23.840051</td>\n",
              "      <td>10691.323192</td>\n",
              "    </tr>\n",
              "    <tr>\n",
              "      <th>max</th>\n",
              "      <td>-8.000000</td>\n",
              "      <td>1.035342</td>\n",
              "      <td>8.154469</td>\n",
              "      <td>60.080002</td>\n",
              "      <td>37.026861</td>\n",
              "      <td>15405.365840</td>\n",
              "    </tr>\n",
              "  </tbody>\n",
              "</table>\n",
              "</div>"
            ],
            "text/plain": [
              "                 -1-            -2-            -3-            -4-  \\\n",
              "count  407253.000000  407253.000000  407253.000000  407253.000000   \n",
              "mean      -11.645348       0.414117       4.377672      47.671808   \n",
              "std         0.331623       0.066392       0.480549       0.269672   \n",
              "min       -13.884766       0.011934       1.308562      47.259998   \n",
              "25%       -11.828125       0.384328       4.048285      47.610001   \n",
              "50%       -11.474559       0.392111       4.119448      47.660000   \n",
              "75%       -11.433594       0.467362       4.635040      47.720001   \n",
              "85%       -11.421875       0.481890       4.782478      47.750000   \n",
              "95%       -11.400117       0.520934       5.096000      47.799999   \n",
              "99%       -11.371094       0.562227       6.288785      47.849998   \n",
              "max        -8.000000       1.035342       8.154469      60.080002   \n",
              "\n",
              "                 -5-            out  \n",
              "count  407253.000000  407253.000000  \n",
              "mean       22.892519   10360.774896  \n",
              "std         0.872609     193.215215  \n",
              "min        21.153845    6366.759162  \n",
              "25%        22.374846   10270.414090  \n",
              "50%        23.122709   10378.770540  \n",
              "75%        23.275335   10469.378160  \n",
              "85%        23.412700   10512.388690  \n",
              "95%        23.672160   10584.998632  \n",
              "99%        23.840051   10691.323192  \n",
              "max        37.026861   15405.365840  "
            ]
          },
          "metadata": {
            "tags": []
          }
        }
      ]
    },
    {
      "cell_type": "markdown",
      "metadata": {
        "id": "LPTWaJHCd5n3"
      },
      "source": [
        "## What are some questions I can answer with this data?\n",
        "\n",
        "Understand the limitations of your data and what potential questions can be answered by data is important.  These questions can reduce, expand, or modify the scope of your project.\n",
        "\n",
        "If you defined a scope or goal for your project before digging into the data, this might be a good time to revisit it.\n",
        "\n",
        "**Data.** We have daily count of reviews for given listing ids for given dates.\n",
        "\n",
        "**Questions I could try to answer. **\n",
        "\n",
        "*   Forecast future number of reviews for the Los Angeles area.\n",
        "* Forecast the future number of reviews for specific listings in the Los Angeles area."
      ]
    },
    {
      "cell_type": "markdown",
      "metadata": {
        "id": "-DnHNENgg5g5"
      },
      "source": [
        "## What techniques may help answer these questions?\n",
        "### Statistical models\n",
        "*   **Ignore the time-series aspect completely and model using traditional statistical modeling toolbox.** \n",
        "  *   *Examples.* Regression-based models.  \n",
        "*   **Univariate statistical time-series modeling.**\n",
        "  *   *Examples.* Averaging and smoothing models, ARIMA models.\n",
        "*   **Slight modifications to univariate statistical time-series modeling.**\n",
        "  *    *Examples.* External regressors, multi-variate models.\n",
        "*   **Additive or component models.**\n",
        "  *  *Examples.* Facebook Prophet package.\n",
        "*   **Structural time series modeling.**\n",
        "  *    *Examples.* Bayesian structural time series modeling, hierarchical time series modeling.\n",
        "\n",
        "### Machine learning models\n",
        "\n",
        "*   **Ignore the time-series aspect completely and model using traditional machine learning modeling toolbox.** \n",
        "  *   *Examples.* Support Vector Machines (SVMs), Random Forest Regression, Gradient-Boosted Decision Trees (GBDTs).\n",
        "*   **Hidden markov models (HMMs).**\n",
        "*   **Other sequence-based models.**\n",
        "*   **Gaussian processes (GPs).**\n",
        "*   **Recurrent neural networks (RNNs).**\n",
        "  \n",
        "### Additional data considerations before choosing a model\n",
        "*   Whether or not to incorporate external data\n",
        "*   Whether or not to keep as univariate or multivariate (i.e., which features and number of features)\n",
        "*   Outlier detection and removal\n",
        "*   Missing value imputation"
      ]
    },
    {
      "cell_type": "markdown",
      "metadata": {
        "id": "ceK93q2WBtHm"
      },
      "source": [
        "# Let's analyze some time-series data!\n",
        "\n",
        "- [Link 1](https://www.analyticsvidhya.com/blog/2016/02/time-series-forecasting-codes-python/)\n",
        "- [Link 2](https://content.nexosis.com/blog/methods-of-demand-forecasting-bsts-prophet)"
      ]
    },
    {
      "cell_type": "markdown",
      "metadata": {
        "id": "ThFjgOObBf9B"
      },
      "source": [
        "## Process my data"
      ]
    },
    {
      "cell_type": "code",
      "metadata": {
        "colab": {
          "base_uri": "https://localhost:8080/",
          "height": 202
        },
        "id": "_K9NJxWvbuCh",
        "outputId": "a4c6ceaf-dcfb-40a8-9eeb-3cf3ea0f0f38"
      },
      "source": [
        "df.head()"
      ],
      "execution_count": 5,
      "outputs": [
        {
          "output_type": "execute_result",
          "data": {
            "text/html": [
              "<div>\n",
              "<style scoped>\n",
              "    .dataframe tbody tr th:only-of-type {\n",
              "        vertical-align: middle;\n",
              "    }\n",
              "\n",
              "    .dataframe tbody tr th {\n",
              "        vertical-align: top;\n",
              "    }\n",
              "\n",
              "    .dataframe thead th {\n",
              "        text-align: right;\n",
              "    }\n",
              "</style>\n",
              "<table border=\"1\" class=\"dataframe\">\n",
              "  <thead>\n",
              "    <tr style=\"text-align: right;\">\n",
              "      <th></th>\n",
              "      <th>time</th>\n",
              "      <th>-1-</th>\n",
              "      <th>-2-</th>\n",
              "      <th>-3-</th>\n",
              "      <th>-4-</th>\n",
              "      <th>-5-</th>\n",
              "      <th>out</th>\n",
              "    </tr>\n",
              "  </thead>\n",
              "  <tbody>\n",
              "    <tr>\n",
              "      <th>0</th>\n",
              "      <td>25:32.2</td>\n",
              "      <td>-8.0</td>\n",
              "      <td>0.018727</td>\n",
              "      <td>1.334451</td>\n",
              "      <td>60.080002</td>\n",
              "      <td>37.026861</td>\n",
              "      <td>15147.67255</td>\n",
              "    </tr>\n",
              "    <tr>\n",
              "      <th>1</th>\n",
              "      <td>25:32.3</td>\n",
              "      <td>-8.0</td>\n",
              "      <td>0.018305</td>\n",
              "      <td>1.344409</td>\n",
              "      <td>60.080002</td>\n",
              "      <td>37.011600</td>\n",
              "      <td>15027.05899</td>\n",
              "    </tr>\n",
              "    <tr>\n",
              "      <th>2</th>\n",
              "      <td>25:32.4</td>\n",
              "      <td>-8.0</td>\n",
              "      <td>0.013568</td>\n",
              "      <td>1.322260</td>\n",
              "      <td>59.820000</td>\n",
              "      <td>37.011600</td>\n",
              "      <td>15270.12537</td>\n",
              "    </tr>\n",
              "    <tr>\n",
              "      <th>3</th>\n",
              "      <td>25:32.5</td>\n",
              "      <td>-8.0</td>\n",
              "      <td>0.015240</td>\n",
              "      <td>1.330974</td>\n",
              "      <td>59.820000</td>\n",
              "      <td>37.011600</td>\n",
              "      <td>15162.10324</td>\n",
              "    </tr>\n",
              "    <tr>\n",
              "      <th>4</th>\n",
              "      <td>25:32.6</td>\n",
              "      <td>-8.0</td>\n",
              "      <td>0.014344</td>\n",
              "      <td>1.329409</td>\n",
              "      <td>59.820000</td>\n",
              "      <td>37.011600</td>\n",
              "      <td>15173.13050</td>\n",
              "    </tr>\n",
              "  </tbody>\n",
              "</table>\n",
              "</div>"
            ],
            "text/plain": [
              "      time  -1-       -2-       -3-        -4-        -5-          out\n",
              "0  25:32.2 -8.0  0.018727  1.334451  60.080002  37.026861  15147.67255\n",
              "1  25:32.3 -8.0  0.018305  1.344409  60.080002  37.011600  15027.05899\n",
              "2  25:32.4 -8.0  0.013568  1.322260  59.820000  37.011600  15270.12537\n",
              "3  25:32.5 -8.0  0.015240  1.330974  59.820000  37.011600  15162.10324\n",
              "4  25:32.6 -8.0  0.014344  1.329409  59.820000  37.011600  15173.13050"
            ]
          },
          "metadata": {
            "tags": []
          },
          "execution_count": 0
        }
      ]
    },
    {
      "cell_type": "code",
      "metadata": {
        "colab": {
          "base_uri": "https://localhost:8080/",
          "height": 202
        },
        "id": "FJRPzcmacoFB",
        "outputId": "87643fd4-8bde-429d-ec64-7e6d2ec415d5"
      },
      "source": [
        "import re\n",
        "ddd=df['time'].str\n",
        "df['day_of_week']= ddd.split('.').str[-1]\n",
        "df['time']= ddd.split('.').str[0]\n",
        "df['day_of_week']=pd.to_datetime(df['day_of_week'], format='%H:%M', errors='ignore') #\n",
        "df=df[['time','day_of_week','-1-','-2-','-3-','-4-','-5-','out']]\n",
        "# df=df[['-1-','-2-','-3-','-4-','-5-','out']]\n",
        "df.head()"
      ],
      "execution_count": 6,
      "outputs": [
        {
          "output_type": "execute_result",
          "data": {
            "text/html": [
              "<div>\n",
              "<style scoped>\n",
              "    .dataframe tbody tr th:only-of-type {\n",
              "        vertical-align: middle;\n",
              "    }\n",
              "\n",
              "    .dataframe tbody tr th {\n",
              "        vertical-align: top;\n",
              "    }\n",
              "\n",
              "    .dataframe thead th {\n",
              "        text-align: right;\n",
              "    }\n",
              "</style>\n",
              "<table border=\"1\" class=\"dataframe\">\n",
              "  <thead>\n",
              "    <tr style=\"text-align: right;\">\n",
              "      <th></th>\n",
              "      <th>time</th>\n",
              "      <th>day_of_week</th>\n",
              "      <th>-1-</th>\n",
              "      <th>-2-</th>\n",
              "      <th>-3-</th>\n",
              "      <th>-4-</th>\n",
              "      <th>-5-</th>\n",
              "      <th>out</th>\n",
              "    </tr>\n",
              "  </thead>\n",
              "  <tbody>\n",
              "    <tr>\n",
              "      <th>0</th>\n",
              "      <td>25:32</td>\n",
              "      <td>2</td>\n",
              "      <td>-8.0</td>\n",
              "      <td>0.018727</td>\n",
              "      <td>1.334451</td>\n",
              "      <td>60.080002</td>\n",
              "      <td>37.026861</td>\n",
              "      <td>15147.67255</td>\n",
              "    </tr>\n",
              "    <tr>\n",
              "      <th>1</th>\n",
              "      <td>25:32</td>\n",
              "      <td>3</td>\n",
              "      <td>-8.0</td>\n",
              "      <td>0.018305</td>\n",
              "      <td>1.344409</td>\n",
              "      <td>60.080002</td>\n",
              "      <td>37.011600</td>\n",
              "      <td>15027.05899</td>\n",
              "    </tr>\n",
              "    <tr>\n",
              "      <th>2</th>\n",
              "      <td>25:32</td>\n",
              "      <td>4</td>\n",
              "      <td>-8.0</td>\n",
              "      <td>0.013568</td>\n",
              "      <td>1.322260</td>\n",
              "      <td>59.820000</td>\n",
              "      <td>37.011600</td>\n",
              "      <td>15270.12537</td>\n",
              "    </tr>\n",
              "    <tr>\n",
              "      <th>3</th>\n",
              "      <td>25:32</td>\n",
              "      <td>5</td>\n",
              "      <td>-8.0</td>\n",
              "      <td>0.015240</td>\n",
              "      <td>1.330974</td>\n",
              "      <td>59.820000</td>\n",
              "      <td>37.011600</td>\n",
              "      <td>15162.10324</td>\n",
              "    </tr>\n",
              "    <tr>\n",
              "      <th>4</th>\n",
              "      <td>25:32</td>\n",
              "      <td>6</td>\n",
              "      <td>-8.0</td>\n",
              "      <td>0.014344</td>\n",
              "      <td>1.329409</td>\n",
              "      <td>59.820000</td>\n",
              "      <td>37.011600</td>\n",
              "      <td>15173.13050</td>\n",
              "    </tr>\n",
              "  </tbody>\n",
              "</table>\n",
              "</div>"
            ],
            "text/plain": [
              "    time day_of_week  -1-       -2-       -3-        -4-        -5-  \\\n",
              "0  25:32           2 -8.0  0.018727  1.334451  60.080002  37.026861   \n",
              "1  25:32           3 -8.0  0.018305  1.344409  60.080002  37.011600   \n",
              "2  25:32           4 -8.0  0.013568  1.322260  59.820000  37.011600   \n",
              "3  25:32           5 -8.0  0.015240  1.330974  59.820000  37.011600   \n",
              "4  25:32           6 -8.0  0.014344  1.329409  59.820000  37.011600   \n",
              "\n",
              "           out  \n",
              "0  15147.67255  \n",
              "1  15027.05899  \n",
              "2  15270.12537  \n",
              "3  15162.10324  \n",
              "4  15173.13050  "
            ]
          },
          "metadata": {
            "tags": []
          },
          "execution_count": 0
        }
      ]
    },
    {
      "cell_type": "markdown",
      "metadata": {
        "id": "8bki88dxfuhb"
      },
      "source": [
        "#GENERATE ROW NUMBER IN PANDAS PYTHON\n",
        "\n",
        "https://www.datasciencemadesimple.com/generate-row-number-in-pandas-python-2/"
      ]
    },
    {
      "cell_type": "code",
      "metadata": {
        "colab": {
          "base_uri": "https://localhost:8080/"
        },
        "id": "eeRsdSY3ii9o",
        "outputId": "15b8c551-cab6-4bdd-f7f3-c3b5fa58603a"
      },
      "source": [
        "df.columns \n",
        "df.dtypes"
      ],
      "execution_count": 7,
      "outputs": [
        {
          "output_type": "execute_result",
          "data": {
            "text/plain": [
              "time            object\n",
              "day_of_week     object\n",
              "-1-            float64\n",
              "-2-            float64\n",
              "-3-            float64\n",
              "-4-            float64\n",
              "-5-            float64\n",
              "out            float64\n",
              "dtype: object"
            ]
          },
          "metadata": {
            "tags": []
          },
          "execution_count": 0
        }
      ]
    },
    {
      "cell_type": "code",
      "metadata": {
        "id": "tLD9r5KlnPIb"
      },
      "source": [
        "# df['newcolumn2'] =pd.date_range(start='1/1/2018', periods=len(df['time']), tz='Asia/Tokyo')#, closed='left')\n",
        "df=df       \n",
        "df['New_Date'] =pd.date_range(\"2018-01-01\", periods=len(df['time']), freq=\"H\")\n",
        "# df['newcolumn'] = pd.to_datetime(df['row_num'], \n",
        "#                                  format='%Y-%m-%d', \n",
        "#                                  errors='coerce').apply(lambda dt: dt.replace(day=1)).dt.date"
      ],
      "execution_count": 8,
      "outputs": []
    },
    {
      "cell_type": "code",
      "metadata": {
        "id": "6JMUinvjmbZq"
      },
      "source": [
        "import numpy as np\n",
        "import pandas as pd\n",
        "\n",
        "# df = pd.DataFrame(df2['time'])\n",
        "# df['date'] = pd.date_range('1900-01-01', periods=len(df['time']))\n",
        "# df = df.set_index(['date'])\n",
        "# print(df.loc['2000-6-1':'2000-6-10'])"
      ],
      "execution_count": 9,
      "outputs": []
    },
    {
      "cell_type": "code",
      "metadata": {
        "colab": {
          "base_uri": "https://localhost:8080/",
          "height": 395
        },
        "id": "NJd_GnuCffuT",
        "outputId": "658c743a-2c15-4344-f24b-2ca1c943cbb7"
      },
      "source": [
        "\timport numpy as np\n",
        "\n",
        "df['row_num'] = np.arange(len(df))\n",
        "# df['date'] = df.datetime(1989,1,1) + pd.TimedeltaIndex(df['row_num'], 'h')\n",
        "import datetime\n",
        "\n",
        "# def to_date(num_str):\n",
        "    # today = datetime.datetime.now()\n",
        "    # return today.strptime(num_str,'%M:%S')\n",
        "    # return datetime.datetime.strptime(num_str,\"%M:%S\")\n",
        "# s=to_date(str((df['row_num'])))\n",
        "# print(to_date(str((df2['time']))))\n",
        "# df2=df\n",
        "df.head()\n",
        "\n"
      ],
      "execution_count": 10,
      "outputs": [
        {
          "output_type": "execute_result",
          "data": {
            "text/html": [
              "<div>\n",
              "<style scoped>\n",
              "    .dataframe tbody tr th:only-of-type {\n",
              "        vertical-align: middle;\n",
              "    }\n",
              "\n",
              "    .dataframe tbody tr th {\n",
              "        vertical-align: top;\n",
              "    }\n",
              "\n",
              "    .dataframe thead th {\n",
              "        text-align: right;\n",
              "    }\n",
              "</style>\n",
              "<table border=\"1\" class=\"dataframe\">\n",
              "  <thead>\n",
              "    <tr style=\"text-align: right;\">\n",
              "      <th></th>\n",
              "      <th>time</th>\n",
              "      <th>day_of_week</th>\n",
              "      <th>-1-</th>\n",
              "      <th>-2-</th>\n",
              "      <th>-3-</th>\n",
              "      <th>-4-</th>\n",
              "      <th>-5-</th>\n",
              "      <th>out</th>\n",
              "      <th>New_Date</th>\n",
              "      <th>row_num</th>\n",
              "    </tr>\n",
              "  </thead>\n",
              "  <tbody>\n",
              "    <tr>\n",
              "      <th>0</th>\n",
              "      <td>25:32</td>\n",
              "      <td>2</td>\n",
              "      <td>-8.0</td>\n",
              "      <td>0.018727</td>\n",
              "      <td>1.334451</td>\n",
              "      <td>60.080002</td>\n",
              "      <td>37.026861</td>\n",
              "      <td>15147.67255</td>\n",
              "      <td>2018-01-01 00:00:00</td>\n",
              "      <td>0</td>\n",
              "    </tr>\n",
              "    <tr>\n",
              "      <th>1</th>\n",
              "      <td>25:32</td>\n",
              "      <td>3</td>\n",
              "      <td>-8.0</td>\n",
              "      <td>0.018305</td>\n",
              "      <td>1.344409</td>\n",
              "      <td>60.080002</td>\n",
              "      <td>37.011600</td>\n",
              "      <td>15027.05899</td>\n",
              "      <td>2018-01-01 01:00:00</td>\n",
              "      <td>1</td>\n",
              "    </tr>\n",
              "    <tr>\n",
              "      <th>2</th>\n",
              "      <td>25:32</td>\n",
              "      <td>4</td>\n",
              "      <td>-8.0</td>\n",
              "      <td>0.013568</td>\n",
              "      <td>1.322260</td>\n",
              "      <td>59.820000</td>\n",
              "      <td>37.011600</td>\n",
              "      <td>15270.12537</td>\n",
              "      <td>2018-01-01 02:00:00</td>\n",
              "      <td>2</td>\n",
              "    </tr>\n",
              "    <tr>\n",
              "      <th>3</th>\n",
              "      <td>25:32</td>\n",
              "      <td>5</td>\n",
              "      <td>-8.0</td>\n",
              "      <td>0.015240</td>\n",
              "      <td>1.330974</td>\n",
              "      <td>59.820000</td>\n",
              "      <td>37.011600</td>\n",
              "      <td>15162.10324</td>\n",
              "      <td>2018-01-01 03:00:00</td>\n",
              "      <td>3</td>\n",
              "    </tr>\n",
              "    <tr>\n",
              "      <th>4</th>\n",
              "      <td>25:32</td>\n",
              "      <td>6</td>\n",
              "      <td>-8.0</td>\n",
              "      <td>0.014344</td>\n",
              "      <td>1.329409</td>\n",
              "      <td>59.820000</td>\n",
              "      <td>37.011600</td>\n",
              "      <td>15173.13050</td>\n",
              "      <td>2018-01-01 04:00:00</td>\n",
              "      <td>4</td>\n",
              "    </tr>\n",
              "  </tbody>\n",
              "</table>\n",
              "</div>"
            ],
            "text/plain": [
              "    time day_of_week  -1-       -2-       -3-        -4-        -5-  \\\n",
              "0  25:32           2 -8.0  0.018727  1.334451  60.080002  37.026861   \n",
              "1  25:32           3 -8.0  0.018305  1.344409  60.080002  37.011600   \n",
              "2  25:32           4 -8.0  0.013568  1.322260  59.820000  37.011600   \n",
              "3  25:32           5 -8.0  0.015240  1.330974  59.820000  37.011600   \n",
              "4  25:32           6 -8.0  0.014344  1.329409  59.820000  37.011600   \n",
              "\n",
              "           out            New_Date  row_num  \n",
              "0  15147.67255 2018-01-01 00:00:00        0  \n",
              "1  15027.05899 2018-01-01 01:00:00        1  \n",
              "2  15270.12537 2018-01-01 02:00:00        2  \n",
              "3  15162.10324 2018-01-01 03:00:00        3  \n",
              "4  15173.13050 2018-01-01 04:00:00        4  "
            ]
          },
          "metadata": {
            "tags": []
          },
          "execution_count": 0
        }
      ]
    },
    {
      "cell_type": "code",
      "metadata": {
        "id": "PG8QSLKaiGRK"
      },
      "source": [
        "# df22 =df\n",
        "# df22 = pd.DataFrame(df, columns = ['time','row_num'])\n",
        "\n",
        "# df22['time'] = pd.to_datetime(df22['time'], format='%M:%S')\n",
        "\n",
        "# # print (df2)\n",
        "# # print (df2.dtypes)\n",
        "# df22.head()"
      ],
      "execution_count": 11,
      "outputs": []
    },
    {
      "cell_type": "markdown",
      "metadata": {
        "id": "lZfu1b8srNUg"
      },
      "source": [
        ""
      ]
    },
    {
      "cell_type": "code",
      "metadata": {
        "colab": {
          "base_uri": "https://localhost:8080/",
          "height": 395
        },
        "id": "oKiyfonyj_rJ",
        "outputId": "3717b4d5-a000-49f5-c4be-85134a1c0281"
      },
      "source": [
        "# df1 = pd.DataFrame(df) \n",
        "# df1.insert(0, \"New_Date\",  df2['New_Date'], True)\n",
        "\n",
        "df.head()"
      ],
      "execution_count": 12,
      "outputs": [
        {
          "output_type": "execute_result",
          "data": {
            "text/html": [
              "<div>\n",
              "<style scoped>\n",
              "    .dataframe tbody tr th:only-of-type {\n",
              "        vertical-align: middle;\n",
              "    }\n",
              "\n",
              "    .dataframe tbody tr th {\n",
              "        vertical-align: top;\n",
              "    }\n",
              "\n",
              "    .dataframe thead th {\n",
              "        text-align: right;\n",
              "    }\n",
              "</style>\n",
              "<table border=\"1\" class=\"dataframe\">\n",
              "  <thead>\n",
              "    <tr style=\"text-align: right;\">\n",
              "      <th></th>\n",
              "      <th>time</th>\n",
              "      <th>day_of_week</th>\n",
              "      <th>-1-</th>\n",
              "      <th>-2-</th>\n",
              "      <th>-3-</th>\n",
              "      <th>-4-</th>\n",
              "      <th>-5-</th>\n",
              "      <th>out</th>\n",
              "      <th>New_Date</th>\n",
              "      <th>row_num</th>\n",
              "    </tr>\n",
              "  </thead>\n",
              "  <tbody>\n",
              "    <tr>\n",
              "      <th>0</th>\n",
              "      <td>25:32</td>\n",
              "      <td>2</td>\n",
              "      <td>-8.0</td>\n",
              "      <td>0.018727</td>\n",
              "      <td>1.334451</td>\n",
              "      <td>60.080002</td>\n",
              "      <td>37.026861</td>\n",
              "      <td>15147.67255</td>\n",
              "      <td>2018-01-01 00:00:00</td>\n",
              "      <td>0</td>\n",
              "    </tr>\n",
              "    <tr>\n",
              "      <th>1</th>\n",
              "      <td>25:32</td>\n",
              "      <td>3</td>\n",
              "      <td>-8.0</td>\n",
              "      <td>0.018305</td>\n",
              "      <td>1.344409</td>\n",
              "      <td>60.080002</td>\n",
              "      <td>37.011600</td>\n",
              "      <td>15027.05899</td>\n",
              "      <td>2018-01-01 01:00:00</td>\n",
              "      <td>1</td>\n",
              "    </tr>\n",
              "    <tr>\n",
              "      <th>2</th>\n",
              "      <td>25:32</td>\n",
              "      <td>4</td>\n",
              "      <td>-8.0</td>\n",
              "      <td>0.013568</td>\n",
              "      <td>1.322260</td>\n",
              "      <td>59.820000</td>\n",
              "      <td>37.011600</td>\n",
              "      <td>15270.12537</td>\n",
              "      <td>2018-01-01 02:00:00</td>\n",
              "      <td>2</td>\n",
              "    </tr>\n",
              "    <tr>\n",
              "      <th>3</th>\n",
              "      <td>25:32</td>\n",
              "      <td>5</td>\n",
              "      <td>-8.0</td>\n",
              "      <td>0.015240</td>\n",
              "      <td>1.330974</td>\n",
              "      <td>59.820000</td>\n",
              "      <td>37.011600</td>\n",
              "      <td>15162.10324</td>\n",
              "      <td>2018-01-01 03:00:00</td>\n",
              "      <td>3</td>\n",
              "    </tr>\n",
              "    <tr>\n",
              "      <th>4</th>\n",
              "      <td>25:32</td>\n",
              "      <td>6</td>\n",
              "      <td>-8.0</td>\n",
              "      <td>0.014344</td>\n",
              "      <td>1.329409</td>\n",
              "      <td>59.820000</td>\n",
              "      <td>37.011600</td>\n",
              "      <td>15173.13050</td>\n",
              "      <td>2018-01-01 04:00:00</td>\n",
              "      <td>4</td>\n",
              "    </tr>\n",
              "  </tbody>\n",
              "</table>\n",
              "</div>"
            ],
            "text/plain": [
              "    time day_of_week  -1-       -2-       -3-        -4-        -5-  \\\n",
              "0  25:32           2 -8.0  0.018727  1.334451  60.080002  37.026861   \n",
              "1  25:32           3 -8.0  0.018305  1.344409  60.080002  37.011600   \n",
              "2  25:32           4 -8.0  0.013568  1.322260  59.820000  37.011600   \n",
              "3  25:32           5 -8.0  0.015240  1.330974  59.820000  37.011600   \n",
              "4  25:32           6 -8.0  0.014344  1.329409  59.820000  37.011600   \n",
              "\n",
              "           out            New_Date  row_num  \n",
              "0  15147.67255 2018-01-01 00:00:00        0  \n",
              "1  15027.05899 2018-01-01 01:00:00        1  \n",
              "2  15270.12537 2018-01-01 02:00:00        2  \n",
              "3  15162.10324 2018-01-01 03:00:00        3  \n",
              "4  15173.13050 2018-01-01 04:00:00        4  "
            ]
          },
          "metadata": {
            "tags": []
          },
          "execution_count": 0
        }
      ]
    },
    {
      "cell_type": "code",
      "metadata": {
        "colab": {
          "base_uri": "https://localhost:8080/"
        },
        "id": "Hu8PPPbrjFuZ",
        "outputId": "7afca761-6c86-4983-9153-cf432b0ee2af"
      },
      "source": [
        "df3=df['row_num']\n",
        "df3['new_date'] = pd.to_datetime(df['New_Date'].astype(int), format='%Y%m%d %H:%M:%S') #'%Y%m%d')\n",
        "df3.head()"
      ],
      "execution_count": 13,
      "outputs": [
        {
          "output_type": "stream",
          "text": [
            "/usr/local/lib/python2.7/dist-packages/ipykernel_launcher.py:2: SettingWithCopyWarning: \n",
            "A value is trying to be set on a copy of a slice from a DataFrame\n",
            "\n",
            "See the caveats in the documentation: http://pandas.pydata.org/pandas-docs/stable/indexing.html#indexing-view-versus-copy\n",
            "  \n"
          ],
          "name": "stderr"
        },
        {
          "output_type": "execute_result",
          "data": {
            "text/plain": [
              "0    0\n",
              "1    1\n",
              "2    2\n",
              "3    3\n",
              "4    4\n",
              "Name: row_num, dtype: object"
            ]
          },
          "metadata": {
            "tags": []
          },
          "execution_count": 0
        }
      ]
    },
    {
      "cell_type": "code",
      "metadata": {
        "colab": {
          "base_uri": "https://localhost:8080/",
          "height": 395
        },
        "id": "nvigwq9xta6n",
        "outputId": "8bae4046-0af6-4d42-d900-ef62fd251821"
      },
      "source": [
        "df.head()"
      ],
      "execution_count": 14,
      "outputs": [
        {
          "output_type": "execute_result",
          "data": {
            "text/html": [
              "<div>\n",
              "<style scoped>\n",
              "    .dataframe tbody tr th:only-of-type {\n",
              "        vertical-align: middle;\n",
              "    }\n",
              "\n",
              "    .dataframe tbody tr th {\n",
              "        vertical-align: top;\n",
              "    }\n",
              "\n",
              "    .dataframe thead th {\n",
              "        text-align: right;\n",
              "    }\n",
              "</style>\n",
              "<table border=\"1\" class=\"dataframe\">\n",
              "  <thead>\n",
              "    <tr style=\"text-align: right;\">\n",
              "      <th></th>\n",
              "      <th>time</th>\n",
              "      <th>day_of_week</th>\n",
              "      <th>-1-</th>\n",
              "      <th>-2-</th>\n",
              "      <th>-3-</th>\n",
              "      <th>-4-</th>\n",
              "      <th>-5-</th>\n",
              "      <th>out</th>\n",
              "      <th>New_Date</th>\n",
              "      <th>row_num</th>\n",
              "    </tr>\n",
              "  </thead>\n",
              "  <tbody>\n",
              "    <tr>\n",
              "      <th>0</th>\n",
              "      <td>25:32</td>\n",
              "      <td>2</td>\n",
              "      <td>-8.0</td>\n",
              "      <td>0.018727</td>\n",
              "      <td>1.334451</td>\n",
              "      <td>60.080002</td>\n",
              "      <td>37.026861</td>\n",
              "      <td>15147.67255</td>\n",
              "      <td>2018-01-01 00:00:00</td>\n",
              "      <td>0</td>\n",
              "    </tr>\n",
              "    <tr>\n",
              "      <th>1</th>\n",
              "      <td>25:32</td>\n",
              "      <td>3</td>\n",
              "      <td>-8.0</td>\n",
              "      <td>0.018305</td>\n",
              "      <td>1.344409</td>\n",
              "      <td>60.080002</td>\n",
              "      <td>37.011600</td>\n",
              "      <td>15027.05899</td>\n",
              "      <td>2018-01-01 01:00:00</td>\n",
              "      <td>1</td>\n",
              "    </tr>\n",
              "    <tr>\n",
              "      <th>2</th>\n",
              "      <td>25:32</td>\n",
              "      <td>4</td>\n",
              "      <td>-8.0</td>\n",
              "      <td>0.013568</td>\n",
              "      <td>1.322260</td>\n",
              "      <td>59.820000</td>\n",
              "      <td>37.011600</td>\n",
              "      <td>15270.12537</td>\n",
              "      <td>2018-01-01 02:00:00</td>\n",
              "      <td>2</td>\n",
              "    </tr>\n",
              "    <tr>\n",
              "      <th>3</th>\n",
              "      <td>25:32</td>\n",
              "      <td>5</td>\n",
              "      <td>-8.0</td>\n",
              "      <td>0.015240</td>\n",
              "      <td>1.330974</td>\n",
              "      <td>59.820000</td>\n",
              "      <td>37.011600</td>\n",
              "      <td>15162.10324</td>\n",
              "      <td>2018-01-01 03:00:00</td>\n",
              "      <td>3</td>\n",
              "    </tr>\n",
              "    <tr>\n",
              "      <th>4</th>\n",
              "      <td>25:32</td>\n",
              "      <td>6</td>\n",
              "      <td>-8.0</td>\n",
              "      <td>0.014344</td>\n",
              "      <td>1.329409</td>\n",
              "      <td>59.820000</td>\n",
              "      <td>37.011600</td>\n",
              "      <td>15173.13050</td>\n",
              "      <td>2018-01-01 04:00:00</td>\n",
              "      <td>4</td>\n",
              "    </tr>\n",
              "  </tbody>\n",
              "</table>\n",
              "</div>"
            ],
            "text/plain": [
              "    time day_of_week  -1-       -2-       -3-        -4-        -5-  \\\n",
              "0  25:32           2 -8.0  0.018727  1.334451  60.080002  37.026861   \n",
              "1  25:32           3 -8.0  0.018305  1.344409  60.080002  37.011600   \n",
              "2  25:32           4 -8.0  0.013568  1.322260  59.820000  37.011600   \n",
              "3  25:32           5 -8.0  0.015240  1.330974  59.820000  37.011600   \n",
              "4  25:32           6 -8.0  0.014344  1.329409  59.820000  37.011600   \n",
              "\n",
              "           out            New_Date  row_num  \n",
              "0  15147.67255 2018-01-01 00:00:00        0  \n",
              "1  15027.05899 2018-01-01 01:00:00        1  \n",
              "2  15270.12537 2018-01-01 02:00:00        2  \n",
              "3  15162.10324 2018-01-01 03:00:00        3  \n",
              "4  15173.13050 2018-01-01 04:00:00        4  "
            ]
          },
          "metadata": {
            "tags": []
          },
          "execution_count": 0
        }
      ]
    },
    {
      "cell_type": "code",
      "metadata": {
        "id": "07ZLKaGFF4-C"
      },
      "source": [
        "# # Rename columns\n",
        "df = df.rename(columns = {'New_Date': 'ds', 'out': 'ts'})\n",
        "\n",
        "# # Group data by number of listings per date\n",
        "# # df_example = df.groupby(by = 'ds').agg({'ts': 'count'})\n",
        "\n",
        "# # Change index to datetime\n",
        "# df_example.index = pd.to_datetime(df_example.index)\n",
        "\n",
        "# # Set frequency of time series\n",
        "# df_example = df_example.asfreq(freq='1D')\n",
        "\n",
        "# # Sort the values\n",
        "# df_example = df_example.sort_index(ascending = True)\n",
        "\n",
        "# # Fill values with 0\n",
        "# df_example = df_example.fillna(value = 0)\n",
        "\n",
        "# # Show the end of the data\n",
        "# display(df_example.tail())"
      ],
      "execution_count": 15,
      "outputs": []
    },
    {
      "cell_type": "code",
      "metadata": {
        "id": "iIc3MHyHcbMV"
      },
      "source": [
        "df_example=df"
      ],
      "execution_count": 16,
      "outputs": []
    },
    {
      "cell_type": "markdown",
      "metadata": {
        "id": "K2Tou1jnBgFP"
      },
      "source": [
        "## Plot my data\n",
        "- There does appear to be an overall increasing trend. \n",
        "- There appears to be some differences in the variance over time. \n",
        "- There may be some seasonality (i.e., cycles) in the data.\n",
        "- Not sure about outliers."
      ]
    },
    {
      "cell_type": "code",
      "metadata": {
        "id": "1guVcTye4P74",
        "colab": {
          "base_uri": "https://localhost:8080/",
          "height": 305
        },
        "outputId": "affb1b49-690f-4048-f6d6-5b1d5aa681b5"
      },
      "source": [
        "# Plot time series data\n",
        "f, ax = plt.subplots(1,1)\n",
        "ax.plot(df_example['ts'])\n",
        "\n",
        "# Add title\n",
        "ax.set_title('Time-series graph for 1 time-series example')\n",
        "\n",
        "# Rotate x-labels\n",
        "ax.tick_params(axis = 'x', rotation = 45)\n",
        "\n",
        "# Show graph\n",
        "plt.show()\n",
        "plt.close()"
      ],
      "execution_count": 17,
      "outputs": [
        {
          "output_type": "display_data",
          "data": {
            "image/png": "[encoded data removed]",
            "text/plain": [
              "<Figure size 432x288 with 1 Axes>"
            ]
          },
          "metadata": {
            "tags": []
          }
        }
      ]
    },
    {
      "cell_type": "markdown",
      "metadata": {
        "id": "aFR3se7N5MZR"
      },
      "source": [
        "## Look at stationarity\n",
        "Most time-series models assume that the underlying time-series data is **stationary**.  This assumption gives us some nice statistical properties that allows us to use various models for forecasting.\n",
        "\n",
        "**Stationarity** is a statistical assumption that a time-series has:\n",
        "*   **Constant mean**\n",
        "*   **Constant variance**\n",
        "*   **Autocovariance does not depend on time**\n",
        "\n",
        "More simply put, if we are using past data to predict future data, we should assume that the data will follow the same general trends and patterns as in the past.  This general statement holds for most training data and modeling tasks.\n",
        "\n",
        "**There are some good diagrams and explanations on stationarity [here](https://www.analyticsvidhya.com/blog/2015/12/complete-tutorial-time-series-modeling/) and [here](https://people.duke.edu/~rnau/411diff.htm).**\n",
        "\n",
        "Sometimes we need to transform the data in order to make it stationary.  However, this  transformation then calls into question if this data is truly stationary and is suited to be modeled using these techniques.\n",
        "\n",
        "**Looking at our data:**\n",
        "- Rolling mean and standard deviation look like they change over time.  There may be some de-trending and removing seasonality involved. Based on **Dickey-Fuller test**, because p = 0.31, we fail to reject the null hypothesis (that the time series is not stationary) at the p = 0.05 level, thus concluding that we fail to reject the null hypothesis that our **time series is not stationary**."
      ]
    },
    {
      "cell_type": "code",
      "metadata": {
        "id": "RG2UQ8kK7oUJ"
      },
      "source": [
        "from statsmodels.tsa.stattools import adfuller\n",
        "def test_stationarity(df, ts):\n",
        "    \"\"\"\n",
        "    Test stationarity using moving average statistics and Dickey-Fuller test\n",
        "    Source: https://www.analyticsvidhya.com/blog/2016/02/time-series-forecasting-codes-python/\n",
        "    \"\"\"\n",
        "    \n",
        "    # Determing rolling statistics\n",
        "    rolmean = df[ts].rolling(window = 12, center = False).mean()\n",
        "    rolstd = df[ts].rolling(window = 12, center = False).std()\n",
        "    \n",
        "    # Plot rolling statistics:\n",
        "    orig = plt.plot(df[ts], \n",
        "                    color = 'blue', \n",
        "                    label = 'Original')\n",
        "    mean = plt.plot(rolmean, \n",
        "                    color = 'red', \n",
        "                    label = 'Rolling Mean')\n",
        "    std = plt.plot(rolstd, \n",
        "                   color = 'black', \n",
        "                   label = 'Rolling Std')\n",
        "    plt.legend(loc = 'best')\n",
        "    plt.title('Rolling Mean & Standard Deviation for %s' %(ts))\n",
        "    plt.xticks(rotation = 45)\n",
        "    plt.show(block = False)\n",
        "    plt.close()\n",
        "    \n",
        "    # Perform Dickey-Fuller test:\n",
        "    # Null Hypothesis (H_0): time series is not stationary\n",
        "    # Alternate Hypothesis (H_1): time series is stationary\n",
        "    print 'Results of Dickey-Fuller Test:'\n",
        "    dftest = adfuller(df[ts], \n",
        "                      autolag='AIC')\n",
        "    dfoutput = pd.Series(dftest[0:4], \n",
        "                         index = ['Test Statistic',\n",
        "                                  'p-value',\n",
        "                                  '# Lags Used',\n",
        "                                  'Number of Observations Used'])\n",
        "    for key, value in dftest[4].items():\n",
        "        dfoutput['Critical Value (%s)'%key] = value\n",
        "    print dfoutput"
      ],
      "execution_count": 18,
      "outputs": []
    },
    {
      "cell_type": "code",
      "metadata": {
        "id": "tbziac6t7r_d",
        "colab": {
          "base_uri": "https://localhost:8080/",
          "height": 323
        },
        "outputId": "52681bb4-4528-418e-88dc-6d52dde83777"
      },
      "source": [
        "test_stationarity(df = df_example, ts = 'ts')"
      ],
      "execution_count": null,
      "outputs": [
        {
          "output_type": "display_data",
          "data": {
            "image/png": "[encoded data removed]",
            "text/plain": [
              "<Figure size 432x288 with 1 Axes>"
            ]
          },
          "metadata": {
            "tags": []
          }
        },
        {
          "output_type": "stream",
          "text": [
            "Results of Dickey-Fuller Test:\n"
          ],
          "name": "stdout"
        }
      ]
    },
    {
      "cell_type": "markdown",
      "metadata": {
        "id": "jK6ldw3J-Hoe"
      },
      "source": [
        "## Correct for stationarity\n",
        "\n",
        "It is common for time series data to have to correct for non-stationarity. \n",
        "\n",
        "2 common reasons behind non-stationarity are:\n",
        "\n",
        "1. **Trend** – mean is not constant over time.\n",
        "2. **Seasonality** – variance is not constant over time.\n",
        "\n",
        "There are ways to correct for trend and seasonality, to make the time series stationary."
      ]
    },
    {
      "cell_type": "markdown",
      "metadata": {
        "id": "jF9Jiz_EOMqt"
      },
      "source": [
        "**What happens if you do not correct for these things?**\n",
        "\n",
        "Many things can happen, including:\n",
        "- Variance can be mis-specified\n",
        "- Model fit can be worse.  \n",
        "- Not leveraging valuable time-dependent nature of the data.  \n",
        "\n",
        "Here are some resources on the pitfalls of using traditional methods for time series analysis.  \n",
        "[Quora link](https://www.quora.com/Why-cant-you-use-linear-regression-for-time-series-data)  \n",
        "[Quora link](https://www.quora.com/Data-Science-Can-machine-learning-be-used-for-time-series-analysis)  \n"
      ]
    },
    {
      "cell_type": "markdown",
      "metadata": {
        "id": "PiFJF8dl-65Q"
      },
      "source": [
        "## Eliminating trend and seasonality\n",
        "*   **Transformation**\n",
        "  *   *Examples.* Log, square root, etc.\n",
        "  *   We are going to look at log.\n",
        "*   **Smoothing**\n",
        "  *  *Examples.* Weekly average, monthly average, rolling averages.\n",
        "  *   We are going to look at weekly average.\n",
        "*   **Differencing**\n",
        "  *  *Examples.* First-order differencing.\n",
        "  *   We are going to look at first-order differencing.\n",
        "*   **Polynomial Fitting**\n",
        "  *  *Examples.* Fit a regression model.\n",
        "*   **Decomposition**"
      ]
    },
    {
      "cell_type": "markdown",
      "metadata": {
        "id": "BfrkICrsekce"
      },
      "source": [
        "## Transformation, Smoothing, and Differencing\n",
        "**Looking at our data:**\n",
        "- Applying log transformation, weekly moving average smoothing, and differencing made the data more stationary over time. Based on **Dickey-Fuller test**, because p = < 0.05, we fail to reject the null hypothesis (that the time series is not stationary) at the p = 0.05 level, thus concluding that the **time series is stationary**."
      ]
    },
    {
      "cell_type": "code",
      "metadata": {
        "id": "YVCmLXNfKLBh"
      },
      "source": [
        "def plot_transformed_data(df, ts, ts_transform):\n",
        "  \"\"\"\n",
        "  Plot transformed and original time series data\n",
        "  \"\"\"\n",
        "  # Plot time series data\n",
        "  f, ax = plt.subplots(1,1)\n",
        "  ax.plot(df[ts])\n",
        "  ax.plot(df[ts_transform], color = 'red')\n",
        "\n",
        "  # Add title\n",
        "  ax.set_title('%s and %s time-series graph' %(ts, ts_transform))\n",
        "\n",
        "  # Rotate x-labels\n",
        "  ax.tick_params(axis = 'x', rotation = 45)\n",
        "\n",
        "  # Add legend\n",
        "  ax.legend([ts, ts_transform])\n",
        "  \n",
        "  plt.show()\n",
        "  plt.close()\n",
        "  \n",
        "  return"
      ],
      "execution_count": null,
      "outputs": []
    },
    {
      "cell_type": "code",
      "metadata": {
        "id": "Qx_6oozH-4_L"
      },
      "source": [
        "# Transformation - log ts\n",
        "df_example['ts_log'] = df_example['ts'].apply(lambda x: np.log(x))\n",
        "\n",
        "# Transformation - 7-day moving averages of log ts\n",
        "df_example['ts_log_moving_avg'] = df_example['ts_log'].rolling(window = 7,\n",
        "                                                               center = False).mean()\n",
        "\n",
        "# Transformation - 7-day moving average ts\n",
        "df_example['ts_moving_avg'] = df_example['ts'].rolling(window = 7,\n",
        "                                                       center = False).mean()\n",
        "\n",
        "# Transformation - Difference between logged ts and first-order difference logged ts\n",
        "# df_example['ts_log_diff'] = df_example['ts_log'] - df_example['ts_log'].shift()\n",
        "df_example['ts_log_diff'] = df_example['ts_log'].diff()\n",
        "\n",
        "# Transformation - Difference between ts and moving average ts\n",
        "df_example['ts_moving_avg_diff'] = df_example['ts'] - df_example['ts_moving_avg']\n",
        "\n",
        "# Transformation - Difference between logged ts and logged moving average ts\n",
        "df_example['ts_log_moving_avg_diff'] = df_example['ts_log'] - df_example['ts_log_moving_avg']\n",
        "\n",
        "# Transformation - Difference between logged ts and logged moving average ts\n",
        "df_example_transform = df_example.dropna()\n",
        "\n",
        "# Transformation - Logged exponentially weighted moving averages (EWMA) ts\n",
        "df_example_transform['ts_log_ewma'] = df_example_transform['ts_log'].ewm(halflife = 7,\n",
        "                                                                         ignore_na = False,\n",
        "                                                                         min_periods = 0,\n",
        "                                                                         adjust = True).mean()\n",
        "\n",
        "# Transformation - Difference between logged ts and logged EWMA ts\n",
        "df_example_transform['ts_log_ewma_diff'] = df_example_transform['ts_log'] - df_example_transform['ts_log_ewma']\n",
        "\n",
        "# Display data\n",
        "display(df_example_transform.head())\n",
        "\n",
        "# Plot data\n",
        "plot_transformed_data(df = df_example, \n",
        "                      ts = 'ts', \n",
        "                      ts_transform = 'ts_log')\n",
        "# Plot data\n",
        "plot_transformed_data(df = df_example, \n",
        "                      ts = 'ts_log', \n",
        "                      ts_transform = 'ts_log_moving_avg')\n",
        "\n",
        "# Plot data\n",
        "plot_transformed_data(df = df_example_transform, \n",
        "                      ts = 'ts', \n",
        "                      ts_transform = 'ts_moving_avg')\n",
        "\n",
        "# Plot data\n",
        "plot_transformed_data(df = df_example_transform, \n",
        "                      ts = 'ts_log', \n",
        "                      ts_transform = 'ts_log_diff')\n",
        "\n",
        "# Plot data\n",
        "plot_transformed_data(df = df_example_transform, \n",
        "                      ts = 'ts', \n",
        "                      ts_transform = 'ts_moving_avg_diff')\n",
        "\n",
        "# Plot data\n",
        "plot_transformed_data(df = df_example_transform, \n",
        "                      ts = 'ts_log', \n",
        "                      ts_transform = 'ts_log_moving_avg_diff')\n",
        "\n",
        "# Plot data\n",
        "plot_transformed_data(df = df_example_transform, \n",
        "                      ts = 'ts_log', \n",
        "                      ts_transform = 'ts_log_ewma')\n",
        "\n",
        "# Plot data\n",
        "plot_transformed_data(df = df_example_transform, \n",
        "                      ts = 'ts_log', \n",
        "                      ts_transform = 'ts_log_ewma_diff')\n",
        "\n",
        "# Perform stationarity test\n",
        "test_stationarity(df = df_example_transform, \n",
        "                  ts = 'ts_log')\n",
        "\n",
        "# Perform stationarity test\n",
        "test_stationarity(df = df_example_transform, \n",
        "                  ts = 'ts_moving_avg')\n",
        "\n",
        "# Perform stationarity test\n",
        "test_stationarity(df = df_example_transform, \n",
        "                  ts = 'ts_log_moving_avg')\n",
        "\n",
        "# Perform stationarity test\n",
        "test_stationarity(df = df_example_transform,\n",
        "                  ts = 'ts_log_diff')\n",
        "\n",
        "# Perform stationarity test\n",
        "test_stationarity(df = df_example_transform,\n",
        "                  ts = 'ts_moving_avg_diff')\n",
        "\n",
        "# Perform stationarity test\n",
        "test_stationarity(df = df_example_transform,\n",
        "                  ts = 'ts_log_moving_avg_diff')\n",
        "\n",
        "# Perform stationarity test\n",
        "test_stationarity(df = df_example_transform, \n",
        "                  ts = 'ts_log_ewma')\n",
        "\n",
        "# Perform stationarity test\n",
        "test_stationarity(df = df_example_transform,\n",
        "                  ts = 'ts_log_ewma_diff')"
      ],
      "execution_count": null,
      "outputs": []
    },
    {
      "cell_type": "markdown",
      "metadata": {
        "id": "YW9CMoYNVgd1"
      },
      "source": [
        "## Decomposition: trend, seasonality, residuals\n",
        "**Looking at our data:**\n",
        "- De-trending and de-seasonalizing made the data (i.e., the residuals) more stationary over time. Based on **Dickey-Fuller test**, because p = < 0.05, we fail to reject the null hypothesis (that the time series is not stationary) at the p = 0.05 level, thus concluding that the **time series is stationary**."
      ]
    },
    {
      "cell_type": "code",
      "metadata": {
        "id": "fA-rG88qVpdF"
      },
      "source": [
        "def plot_decomposition(df, ts, trend, seasonal, residual):\n",
        "  \"\"\"\n",
        "  Plot time series data\n",
        "  \"\"\"\n",
        "  f, ((ax1, ax2), (ax3, ax4)) = plt.subplots(2,2, figsize = (15, 5), sharex = True)\n",
        "\n",
        "  ax1.plot(df[ts], label = 'Original')\n",
        "  ax1.legend(loc = 'best')\n",
        "  ax1.tick_params(axis = 'x', rotation = 45)\n",
        "\n",
        "  ax2.plot(df[trend], label = 'Trend')\n",
        "  ax2.legend(loc = 'best')\n",
        "  ax2.tick_params(axis = 'x', rotation = 45)\n",
        "\n",
        "  ax3.plot(df[seasonal],label = 'Seasonality')\n",
        "  ax3.legend(loc = 'best')\n",
        "  ax3.tick_params(axis = 'x', rotation = 45)\n",
        "\n",
        "  ax4.plot(df[residual], label = 'Residuals')\n",
        "  ax4.legend(loc = 'best')\n",
        "  ax4.tick_params(axis = 'x', rotation = 45)\n",
        "  plt.tight_layout()\n",
        "\n",
        "  # Show graph\n",
        "  plt.suptitle('Trend, Seasonal, and Residual Decomposition of %s' %(ts), \n",
        "               x = 0.5, \n",
        "               y = 1.05, \n",
        "               fontsize = 18)\n",
        "  plt.show()\n",
        "  plt.close()\n",
        "  \n",
        "  return"
      ],
      "execution_count": null,
      "outputs": []
    },
    {
      "cell_type": "code",
      "metadata": {
        "id": "voOjEMD9gKAS"
      },
      "source": [
        "from statsmodels.tsa.seasonal import seasonal_decompose\n",
        "decomposition = seasonal_decompose(df_example_transform['ts_log'], freq = 365)\n",
        "\n",
        "df_example_transform.loc[:,'trend'] = decomposition.trend\n",
        "df_example_transform.loc[:,'seasonal'] = decomposition.seasonal\n",
        "df_example_transform.loc[:,'residual'] = decomposition.resid\n",
        "\n",
        "plot_decomposition(df = df_example_transform, \n",
        "                   ts = 'ts_log', \n",
        "                   trend = 'trend',\n",
        "                   seasonal = 'seasonal', \n",
        "                   residual = 'residual')\n",
        "\n",
        "test_stationarity(df = df_example_transform.dropna(), ts = 'residual')"
      ],
      "execution_count": null,
      "outputs": []
    },
    {
      "cell_type": "markdown",
      "metadata": {
        "id": "AbTlhWommsXE"
      },
      "source": [
        "# Let us model some time-series data! Finally! ARIMA models.\n",
        "\n",
        "We will be doing an example here! We can use ARIMA models when we know there is dependence between values and we can leverage that information to forecast.\n",
        "\n",
        "**ARIMA = Auto-Regressive Integrated Moving Average**.   \n",
        "**Assumptions.** The time-series is stationary.  \n",
        "**Depends on:**  \n",
        "  **1. Number of AR (Auto-Regressive) terms (p).**  \n",
        "  **2. Number of I (Integrated or Difference) terms (d).**  \n",
        "  **3. Number of MA (Moving Average) terms (q).**  "
      ]
    },
    {
      "cell_type": "markdown",
      "metadata": {
        "id": "9WVM2ihljviV"
      },
      "source": [
        "## ACF and PACF Plots\n",
        "**How do we determine p, d, and q?**\n",
        "For p and q, we can use ACF and PACF plots (below).\n",
        "\n",
        "**Autocorrelation Function (ACF).** Correlation between the time series with a lagged version of itself (e.g., correlation of Y(t) with Y(t-1)).\n",
        "\n",
        "**Partial Autocorrelation Function (PACF).** Additional correlation explained by each successive lagged term.\n",
        "\n",
        "**How do we interpret ACF and PACF plots?**\n",
        "- p – Lag value where the PACF chart crosses the upper confidence interval for the first time.\n",
        "- q – Lag value where the ACF chart crosses the upper confidence interval for the first time.\n"
      ]
    },
    {
      "cell_type": "code",
      "metadata": {
        "id": "o0ea7gklHcwp"
      },
      "source": [
        "def plot_acf_pacf(df, ts):\n",
        "  \"\"\"\n",
        "  Plot auto-correlation function (ACF) and partial auto-correlation (PACF) plots\n",
        "  \"\"\"\n",
        "  f, (ax1, ax2) = plt.subplots(1,2, figsize = (10, 5)) \n",
        "\n",
        "  #Plot ACF: \n",
        "\n",
        "  ax1.plot(lag_acf)\n",
        "  ax1.axhline(y=0,linestyle='--',color='gray')\n",
        "  ax1.axhline(y=-1.96/np.sqrt(len(df[ts])),linestyle='--',color='gray')\n",
        "  ax1.axhline(y=1.96/np.sqrt(len(df[ts])),linestyle='--',color='gray')\n",
        "  ax1.set_title('Autocorrelation Function for %s' %(ts))\n",
        "\n",
        "  #Plot PACF:\n",
        "  ax2.plot(lag_pacf)\n",
        "  ax2.axhline(y=0,linestyle='--',color='gray')\n",
        "  ax2.axhline(y=-1.96/np.sqrt(len(df[ts])),linestyle='--',color='gray')\n",
        "  ax2.axhline(y=1.96/np.sqrt(len(df[ts])),linestyle='--',color='gray')\n",
        "  ax2.set_title('Partial Autocorrelation Function for %s' %(ts))\n",
        "  \n",
        "  plt.tight_layout()\n",
        "  plt.show()\n",
        "  plt.close()\n",
        "  \n",
        "  return"
      ],
      "execution_count": null,
      "outputs": []
    },
    {
      "cell_type": "code",
      "metadata": {
        "id": "vpMF8s7NkVjE"
      },
      "source": [
        "#ACF and PACF plots:\n",
        "from statsmodels.tsa.stattools import acf, pacf\n",
        "\n",
        "# determine ACF and PACF\n",
        "lag_acf = acf(np.array(df_example_transform['ts_log_diff']), nlags = 20)\n",
        "lag_pacf = pacf(np.array(df_example_transform['ts_log_diff']), nlags = 20)\n",
        "\n",
        "# plot ACF and PACF\n",
        "plot_acf_pacf(df = df_example_transform, ts = 'ts_log_diff')"
      ],
      "execution_count": null,
      "outputs": []
    },
    {
      "cell_type": "code",
      "metadata": {
        "id": "1a_2PefcYouT"
      },
      "source": [
        "def run_arima_model(df, ts, p, d, q):\n",
        "  \"\"\"\n",
        "  Run ARIMA model\n",
        "  \"\"\"\n",
        "  from statsmodels.tsa.arima_model import ARIMA\n",
        "\n",
        "  # fit ARIMA model on time series\n",
        "  model = ARIMA(df[ts], order=(p, d, q))  \n",
        "  results_ = model.fit(disp=-1)  \n",
        "  \n",
        "  # get lengths correct to calculate RSS\n",
        "  len_results = len(results_.fittedvalues)\n",
        "  ts_modified = df[ts][-len_results:]\n",
        "  \n",
        "  # calculate root mean square error (RMSE) and residual sum of squares (RSS)\n",
        "  rss = sum((results_.fittedvalues - ts_modified)**2)\n",
        "  rmse = np.sqrt(rss / len(df[ts]))\n",
        "  \n",
        "  # plot fit\n",
        "  plt.plot(df[ts])\n",
        "  plt.plot(results_.fittedvalues, color = 'red')\n",
        "  plt.title('For ARIMA model (%i, %i, %i) for ts %s, RSS: %.4f, RMSE: %.4f' %(p, d, q, ts, rss, rmse))\n",
        "  \n",
        "  plt.show()\n",
        "  plt.close()\n",
        "  \n",
        "  return results_"
      ],
      "execution_count": null,
      "outputs": []
    },
    {
      "cell_type": "code",
      "metadata": {
        "id": "R1pHK8zAY_-z"
      },
      "source": [
        "# Note: I do the differencing in the transformation of the data 'ts_log_diff'\n",
        "# AR model with 1st order differencing - ARIMA (1,0,0)\n",
        "model_AR = run_arima_model(df = df_example_transform, \n",
        "                           ts = 'ts_log_diff', \n",
        "                           p = 1, \n",
        "                           d = 0, \n",
        "                           q = 0)\n",
        "\n",
        "# MA model with 1st order differencing - ARIMA (0,0,1)\n",
        "model_MA = run_arima_model(df = df_example_transform, \n",
        "                           ts = 'ts_log_diff', \n",
        "                           p = 0, \n",
        "                           d = 0, \n",
        "                           q = 1)\n",
        "\n",
        "# ARMA model with 1st order differencing - ARIMA (1,0,1)\n",
        "model_MA = run_arima_model(df = df_example_transform, \n",
        "                           ts = 'ts_log_diff', \n",
        "                           p = 1, \n",
        "                           d = 0, \n",
        "                           q = 1)"
      ],
      "execution_count": null,
      "outputs": []
    },
    {
      "cell_type": "markdown",
      "metadata": {
        "id": "Vu0387ctTS93"
      },
      "source": [
        "# Let us model some time-series data! Finally! Facebook Prophet package.\n",
        "\n",
        "We will be doing an example here! Installing the necessary packages might take a couple of minutes.  In the meantime, I can talk a bit about [Facebook Prophet](https://facebook.github.io/prophet/), a tool that allows folks to forecast using additive or component models relatively easily.  It can also include things like:\n",
        "* Day of week effects\n",
        "* Day of year effects\n",
        "* Holiday effects\n",
        "* Trend trajectory\n",
        "* Can do MCMC sampling"
      ]
    },
    {
      "cell_type": "code",
      "metadata": {
        "id": "qxK5LtVmTz28"
      },
      "source": [
        "!pip install pystan\n",
        "!pip install fbprophet\n",
        "from fbprophet import Prophet\n",
        "import datetime\n",
        "from datetime import datetime"
      ],
      "execution_count": null,
      "outputs": []
    },
    {
      "cell_type": "code",
      "metadata": {
        "id": "kelYeUjdVfbV"
      },
      "source": [
        "def days_between(d1, d2):\n",
        "    \"\"\"Calculate the number of days between two dates.  D1 is start date (inclusive) and d2 is end date (inclusive)\"\"\"\n",
        "    d1 = datetime.strptime(d1, \"%Y-%m-%d\")\n",
        "    d2 = datetime.strptime(d2, \"%Y-%m-%d\")\n",
        "    return abs((d2 - d1).days + 1)"
      ],
      "execution_count": null,
      "outputs": []
    },
    {
      "cell_type": "code",
      "metadata": {
        "id": "PMnVhgNkVMAm"
      },
      "source": [
        "# Inputs for query\n",
        "\n",
        "date_column = 'dt'\n",
        "metric_column = 'ts'\n",
        "table = df_example\n",
        "start_training_date = '2010-07-03'\n",
        "end_training_date = '2018-09-08'\n",
        "start_forecasting_date = '2018-09-09'\n",
        "end_forecasting_date = '2018-12-31'\n",
        "year_to_estimate = '2018'\n",
        "\n",
        "# Inputs for forecasting\n",
        "\n",
        "# future_num_points\n",
        "# If doing different time intervals, change future_num_points\n",
        "future_num_points = days_between(start_forecasting_date, end_forecasting_date)\n",
        "\n",
        "cap = None # 2e6\n",
        "\n",
        "# growth: default = 'linear'\n",
        "# Can also choose 'logistic'\n",
        "growth = 'linear'\n",
        "\n",
        "# n_changepoints: default = 25, uniformly placed in first 80% of time series\n",
        "n_changepoints = 25 \n",
        "\n",
        "# changepoint_prior_scale: default = 0.05\n",
        "# Increasing it will make the trend more flexible\n",
        "changepoint_prior_scale = 0.05 \n",
        "\n",
        "# changpoints: example = ['2016-01-01']\n",
        "changepoints = None \n",
        "\n",
        "# holidays_prior_scale: default = 10\n",
        "# If you find that the holidays are overfitting, you can adjust their prior scale to smooth them\n",
        "holidays_prior_scale = 10 \n",
        "\n",
        "# interval_width: default = 0.8\n",
        "interval_width = 0.8 \n",
        "\n",
        "# mcmc_samples: default = 0\n",
        "# By default Prophet will only return uncertainty in the trend and observation noise.\n",
        "# To get uncertainty in seasonality, you must do full Bayesian sampling. \n",
        "# Replaces typical MAP estimation with MCMC sampling, and takes MUCH LONGER - e.g., 10 minutes instead of 10 seconds.\n",
        "# If you do full sampling, then you will see the uncertainty in seasonal components when you plot:\n",
        "mcmc_samples = 0\n",
        "\n",
        "# holiday: default = None\n",
        "# thanksgiving = pd.DataFrame({\n",
        "#   'holiday': 'thanksgiving',\n",
        "#   'ds': pd.to_datetime(['2014-11-27', '2015-11-26',\n",
        "#                         '2016-11-24', '2017-11-23']),\n",
        "#   'lower_window': 0,\n",
        "#   'upper_window': 4,\n",
        "# })\n",
        "# christmas = pd.DataFrame({\n",
        "#   'holiday': 'christmas',\n",
        "#   'ds': pd.to_datetime(['2014-12-25', '2015-12-25', \n",
        "#                         '2016-12-25','2017-12-25']),\n",
        "#   'lower_window': -1,\n",
        "#   'upper_window': 0,\n",
        "# })\n",
        "# holidays = pd.concat((thanksgiving,christmas))\n",
        "holidays = None\n",
        "\n",
        "daily_seasonality = True"
      ],
      "execution_count": null,
      "outputs": []
    },
    {
      "cell_type": "code",
      "metadata": {
        "id": "DM_mns4lWC-M"
      },
      "source": [
        "# get relevant data - note: could also try this with ts_log_diff\n",
        "df_prophet = df_example_transform[['ts']] # can try with ts_log_diff\n",
        "\n",
        "# reset index\n",
        "df_prophet = df_prophet.reset_index()\n",
        "\n",
        "# rename columns\n",
        "df_prophet = df_prophet.rename(columns = {'ds': 'ds', 'ts': 'y'}) # can try with ts_log_diff\n",
        "\n",
        "# Change 'ds' type from datetime to date (necessary for FB Prophet)\n",
        "df_prophet['ds'] = pd.to_datetime(df_prophet['ds'])\n",
        "\n",
        "# Change 'y' type to numeric (necessary for FB Prophet)\n",
        "df_prophet['y'] = pd.to_numeric(df_prophet['y'], errors='ignore')\n",
        "\n",
        "# Remove any outliers\n",
        "# df.loc[(df_['ds'] > '2016-12-13') & (df_['ds'] < '2016-12-19'), 'y'] = None"
      ],
      "execution_count": null,
      "outputs": []
    },
    {
      "cell_type": "code",
      "metadata": {
        "id": "4s6vbo9bXK4c"
      },
      "source": [
        "def create_daily_forecast(df,\n",
        "#                           cap,\n",
        "                          holidays,\n",
        "                          growth,\n",
        "                          n_changepoints = 25,\n",
        "                          changepoint_prior_scale = 0.05,\n",
        "                          changepoints = None,\n",
        "                          holidays_prior_scale = 10,\n",
        "                          interval_width = 0.8,\n",
        "                          mcmc_samples = 1,\n",
        "                          future_num_points = 10, \n",
        "                          daily_seasonality = True):\n",
        "  \"\"\"\n",
        "  Create forecast\n",
        "  \"\"\"\n",
        "  \n",
        "  # Create copy of dataframe\n",
        "  df_ = df.copy()\n",
        "\n",
        "  # Add in growth parameter, which can change over time\n",
        "  #     df_['cap'] = max(df_['y']) if cap is None else cap\n",
        "\n",
        "  # Create model object and fit to dataframe\n",
        "  m = Prophet(growth = growth,\n",
        "              n_changepoints = n_changepoints,\n",
        "              changepoint_prior_scale = changepoint_prior_scale,\n",
        "              changepoints = changepoints,\n",
        "              holidays = holidays,\n",
        "              holidays_prior_scale = holidays_prior_scale,\n",
        "              interval_width = interval_width,\n",
        "              mcmc_samples = mcmc_samples, \n",
        "              daily_seasonality = daily_seasonality)\n",
        "\n",
        "  # Fit model with dataframe\n",
        "  m.fit(df_)\n",
        "\n",
        "  # Create dataframe for predictions\n",
        "  future = m.make_future_dataframe(periods = future_num_points)\n",
        "  #     future['cap'] = max(df_['y']) if cap is None else cap\n",
        "\n",
        "  # Create predictions\n",
        "  fcst = m.predict(future)\n",
        "\n",
        "  # Plot\n",
        "  m.plot(fcst);\n",
        "  m.plot_components(fcst)\n",
        "\n",
        "  return fcst"
      ],
      "execution_count": null,
      "outputs": []
    },
    {
      "cell_type": "code",
      "metadata": {
        "id": "HzVElZbNXN5s"
      },
      "source": [
        "fcst = create_daily_forecast(df_prophet,\n",
        "#                              cap,\n",
        "                             holidays,\n",
        "                             growth,\n",
        "                             n_changepoints,\n",
        "                             changepoint_prior_scale,\n",
        "                             changepoints, \n",
        "                             holidays_prior_scale,\n",
        "                             interval_width,\n",
        "                             mcmc_samples,\n",
        "                             future_num_points, \n",
        "                             daily_seasonality)"
      ],
      "execution_count": null,
      "outputs": []
    },
    {
      "cell_type": "code",
      "metadata": {
        "id": "Ou05kS5eYNTX"
      },
      "source": [
        "def calculate_mape(y_true, y_pred):\n",
        "    \"\"\" Calculate mean absolute percentage error (MAPE)\"\"\"\n",
        "    return np.mean(np.abs((y_true - y_pred) / y_true)) * 100\n",
        "\n",
        "def calculate_mpe(y_true, y_pred):\n",
        "    \"\"\" Calculate mean percentage error (MPE)\"\"\"\n",
        "    return np.mean((y_true - y_pred) / y_true) * 100\n",
        "\n",
        "def calculate_mae(y_true, y_pred):\n",
        "    \"\"\" Calculate mean absolute error (MAE)\"\"\"\n",
        "    return np.mean(np.abs(y_true - y_pred)) * 100\n",
        "\n",
        "def calculate_rmse(y_true, y_pred):\n",
        "    \"\"\" Calculate root mean square error (RMSE)\"\"\"\n",
        "    return np.sqrt(np.mean((y_true - y_pred)**2))\n",
        "\n",
        "def print_error_metrics(y_true, y_pred):\n",
        "    print('MAPE: %f'%calculate_mape(y_true, y_pred))\n",
        "    print('MPE: %f'%calculate_mpe(y_true, y_pred))\n",
        "    print('MAE: %f'%calculate_mae(y_true, y_pred))\n",
        "    print('RMSE: %f'%calculate_rmse(y_true, y_pred))\n",
        "    return"
      ],
      "execution_count": null,
      "outputs": []
    },
    {
      "cell_type": "code",
      "metadata": {
        "id": "5-hzdzVMYWTI"
      },
      "source": [
        "print_error_metrics(y_true = df_prophet['y'], y_pred = fcst['yhat'])"
      ],
      "execution_count": null,
      "outputs": []
    },
    {
      "cell_type": "markdown",
      "metadata": {
        "id": "zvI-0HR6brBZ"
      },
      "source": [
        "# Let us model some time-series data! Finally! LSTM for regression\n",
        "\n",
        "We will be going through an example here.\n",
        "\n",
        "Also, here are some resources on recurrent neural networks (RNN) and Long Short-Term Memory networks (LSTMs):\n",
        "* [Link 1](https://machinelearningmastery.com/time-series-prediction-lstm-recurrent-neural-networks-python-keras/)\n",
        "* [Link 2](https://blog.statsbot.co/time-series-prediction-using-recurrent-neural-networks-lstms-807fa6ca7f)\n",
        "* [Link 3](http://adventuresinmachinelearning.com/recurrent-neural-networks-lstm-tutorial-tensorflow/)"
      ]
    },
    {
      "cell_type": "code",
      "metadata": {
        "id": "6QITEMh2Zt4F"
      },
      "source": [
        "def do_lstm_model(df, \n",
        "                  ts, \n",
        "                  look_back, \n",
        "                  epochs, \n",
        "                  type_ = None, \n",
        "                  train_fraction = 0.67):\n",
        "  \"\"\"\n",
        "   Create LSTM model\n",
        "   Source: https://machinelearningmastery.com/time-series-prediction-lstm-recurrent-neural-networks-python-keras/\n",
        "  \"\"\"\n",
        "  # Import packages\n",
        "  import numpy\n",
        "  import matplotlib.pyplot as plt\n",
        "  from pandas import read_csv\n",
        "  import math\n",
        "  from keras.models import Sequential\n",
        "  from keras.layers import Dense\n",
        "  from keras.layers import LSTM\n",
        "  from sklearn.preprocessing import MinMaxScaler\n",
        "  from sklearn.metrics import mean_squared_error\n",
        "\n",
        "  # Convert an array of values into a dataset matrix\n",
        "  def create_dataset(dataset, look_back=1):\n",
        "    \"\"\"\n",
        "    Create the dataset\n",
        "    \"\"\"\n",
        "    dataX, dataY = [], []\n",
        "    for i in range(len(dataset)-look_back-1):\n",
        "      a = dataset[i:(i+look_back), 0]\n",
        "      dataX.append(a)\n",
        "      dataY.append(dataset[i + look_back, 0])\n",
        "    return numpy.array(dataX), numpy.array(dataY)\n",
        "\n",
        "  # Fix random seed for reproducibility\n",
        "  numpy.random.seed(7)\n",
        "\n",
        "  # Get dataset\n",
        "  dataset = df[ts].values\n",
        "  dataset = dataset.astype('float32')\n",
        "\n",
        "  # Normalize the dataset\n",
        "  scaler = MinMaxScaler(feature_range=(0, 1))\n",
        "  dataset = scaler.fit_transform(dataset.reshape(-1, 1))\n",
        "  \n",
        "  # Split into train and test sets\n",
        "  train_size = int(len(dataset) * train_fraction)\n",
        "  test_size = len(dataset) - train_size\n",
        "  train, test = dataset[0:train_size,:], dataset[train_size:len(dataset),:]\n",
        "  \n",
        "  # Reshape into X=t and Y=t+1\n",
        "  look_back = look_back\n",
        "  trainX, trainY = create_dataset(train, look_back)\n",
        "  testX, testY = create_dataset(test, look_back)\n",
        "  \n",
        "  # Reshape input to be [samples, time steps, features]\n",
        "  if type_ == 'regression with time steps':\n",
        "    trainX = numpy.reshape(trainX, (trainX.shape[0], trainX.shape[1], 1))\n",
        "    testX = numpy.reshape(testX, (testX.shape[0], testX.shape[1], 1))\n",
        "  elif type_ == 'stacked with memory between batches':\n",
        "    trainX = numpy.reshape(trainX, (trainX.shape[0], trainX.shape[1], 1))\n",
        "    testX = numpy.reshape(testX, (testX.shape[0], testX.shape[1], 1))\n",
        "  else:\n",
        "    trainX = numpy.reshape(trainX, (trainX.shape[0], 1, trainX.shape[1]))\n",
        "    testX = numpy.reshape(testX, (testX.shape[0], 1, testX.shape[1]))\n",
        "  \n",
        "  # Create and fit the LSTM network\n",
        "  batch_size = 1\n",
        "  model = Sequential()\n",
        "  \n",
        "  if type_ == 'regression with time steps':\n",
        "    model.add(LSTM(4, input_shape=(look_back, 1)))\n",
        "  elif type_ == 'memory between batches':\n",
        "    model.add(LSTM(4, batch_input_shape=(batch_size, look_back, 1), stateful=True))\n",
        "  elif type_ == 'stacked with memory between batches':\n",
        "    model.add(LSTM(4, batch_input_shape=(batch_size, look_back, 1), stateful=True, return_sequences=True))\n",
        "    model.add(LSTM(4, batch_input_shape=(batch_size, look_back, 1), stateful=True))\n",
        "  else:\n",
        "    model.add(LSTM(4, input_shape=(1, look_back)))\n",
        "  \n",
        "  model.add(Dense(1))\n",
        "  model.compile(loss='mean_squared_error', optimizer='adam')\n",
        "\n",
        "  if type_ == 'memory between batches' or type_ == 'stacked with memory between batches':\n",
        "    for i in range(100):\n",
        "      model.fit(trainX, trainY, epochs=1, batch_size=batch_size, verbose=2, shuffle=False)\n",
        "      model.reset_states()\n",
        "  else:\n",
        "    model.fit(trainX, \n",
        "              trainY, \n",
        "              epochs = epochs, \n",
        "              batch_size = 1, \n",
        "              verbose = 2)\n",
        "  \n",
        "  # Make predictions\n",
        "  if type_ == 'memory between batches' or type_ == 'stacked with memory between batches':\n",
        "    trainPredict = model.predict(trainX, batch_size=batch_size)\n",
        "    testPredict = model.predict(testX, batch_size=batch_size)\n",
        "  else:\n",
        "    trainPredict = model.predict(trainX)\n",
        "    testPredict = model.predict(testX)\n",
        "  \n",
        "  # Invert predictions\n",
        "  trainPredict = scaler.inverse_transform(trainPredict)\n",
        "  trainY = scaler.inverse_transform([trainY])\n",
        "  testPredict = scaler.inverse_transform(testPredict)\n",
        "  testY = scaler.inverse_transform([testY])\n",
        "  \n",
        "  # Calculate root mean squared error\n",
        "  trainScore = math.sqrt(mean_squared_error(trainY[0], trainPredict[:,0]))\n",
        "  print('Train Score: %.2f RMSE' % (trainScore))\n",
        "  testScore = math.sqrt(mean_squared_error(testY[0], testPredict[:,0]))\n",
        "  print('Test Score: %.2f RMSE' % (testScore))\n",
        "  \n",
        "  # Shift train predictions for plotting\n",
        "  trainPredictPlot = numpy.empty_like(dataset)\n",
        "  trainPredictPlot[:, :] = numpy.nan\n",
        "  trainPredictPlot[look_back:len(trainPredict)+look_back, :] = trainPredict\n",
        "  \n",
        "  # Shift test predictions for plotting\n",
        "  testPredictPlot = numpy.empty_like(dataset)\n",
        "  testPredictPlot[:, :] = numpy.nan\n",
        "  testPredictPlot[len(trainPredict)+(look_back*2)+1:len(dataset)-1, :] = testPredict\n",
        "  \n",
        "  # Plot baseline and predictions\n",
        "  plt.plot(scaler.inverse_transform(dataset))\n",
        "  plt.plot(trainPredictPlot)\n",
        "  plt.plot(testPredictPlot)\n",
        "  plt.show()\n",
        "  plt.close()\n",
        "  \n",
        "  return"
      ],
      "execution_count": null,
      "outputs": []
    },
    {
      "cell_type": "code",
      "metadata": {
        "id": "xkZm9FWtaqF4"
      },
      "source": [
        "# LSTM Network for Regression\n",
        "do_lstm_model(df = df_prophet, \n",
        "              ts = 'y', \n",
        "              look_back = 1, \n",
        "              epochs = 5)\n",
        "\n",
        "# LSTM for Regression Using the Window Method\n",
        "do_lstm_model(df = df_prophet, \n",
        "              ts = 'y', \n",
        "              look_back = 3, \n",
        "              epochs = 5)\n",
        "\n",
        "# LSTM for Regression with Time Steps\n",
        "do_lstm_model(df = df_prophet, \n",
        "              ts = 'y', \n",
        "              look_back = 3, \n",
        "              epochs = 5, \n",
        "              type_ = 'regression with time steps')\n",
        "\n",
        "# # LSTM with Memory Between Batches\n",
        "# do_lstm_model(df = df_prophet, \n",
        "#               ts = 'y', \n",
        "#               look_back = 3, \n",
        "#               epochs = 5, \n",
        "#               type_ = 'memory between batches')\n",
        "\n",
        "# # Stacked LSTMs with Memory Between Batches\n",
        "# do_lstm_model(df = df_prophet, \n",
        "#               ts = 'y', \n",
        "#               look_back = 3, \n",
        "#               epochs = 5, \n",
        "#               type_ = 'stacked with memory between batches')"
      ],
      "execution_count": null,
      "outputs": []
    },
    {
      "cell_type": "code",
      "metadata": {
        "id": "-fDajKE0V-FB"
      },
      "source": [
        ""
      ],
      "execution_count": null,
      "outputs": []
    }
  ]
}